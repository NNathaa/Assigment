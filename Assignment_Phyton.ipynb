{
  "nbformat": 4,
  "nbformat_minor": 0,
  "metadata": {
    "colab": {
      "provenance": [],
      "collapsed_sections": [
        "N2i4FnjxWQDB",
        "7VkswXHQpRR2",
        "4WZIsFwlt9bt",
        "xrO40ymEJ5rM",
        "BfUufuG-MrXv",
        "NPBEU1chMs75"
      ],
      "mount_file_id": "19e3x3JSsJBiw9xWpHyDkIlmsdvlv9qWi",
      "authorship_tag": "ABX9TyO2GgCoNLepjFTryz6X7erw",
      "include_colab_link": true
    },
    "kernelspec": {
      "name": "python3",
      "display_name": "Python 3"
    },
    "language_info": {
      "name": "python"
    }
  },
  "cells": [
    {
      "cell_type": "markdown",
      "metadata": {
        "id": "view-in-github",
        "colab_type": "text"
      },
      "source": [
        "<a href=\"https://colab.research.google.com/github/NNathaa/Assigment/blob/main/Assignment_Phyton.ipynb\" target=\"_parent\"><img src=\"https://colab.research.google.com/assets/colab-badge.svg\" alt=\"Open In Colab\"/></a>"
      ]
    },
    {
      "cell_type": "code",
      "execution_count": null,
      "metadata": {
        "colab": {
          "base_uri": "https://localhost:8080/"
        },
        "id": "Eo3lCJ0byi7y",
        "outputId": "b5f2ba94-6296-4a02-cdd1-02d778ff4129"
      },
      "outputs": [
        {
          "output_type": "stream",
          "name": "stdout",
          "text": [
            "Drive already mounted at /content/drive; to attempt to forcibly remount, call drive.mount(\"/content/drive\", force_remount=True).\n"
          ]
        }
      ],
      "source": [
        "from google.colab import drive\n",
        "drive.mount('/content/drive')"
      ]
    },
    {
      "cell_type": "markdown",
      "source": [
        "##**1. Identifikasi Data**"
      ],
      "metadata": {
        "id": "N2i4FnjxWQDB"
      }
    },
    {
      "cell_type": "code",
      "source": [
        "import pandas as pd\n",
        "excel_file_path = '/content/drive/MyDrive/Colab Notebooks/Data Assignment Kompi G.xlsx'\n",
        "df = pd.read_excel(excel_file_path)\n",
        "print(df)\n",
        "tipe_data = df.dtypes\n",
        "jumlah_baris, jumlah_kolom = df.shape\n",
        "informasi_umum = df.info()"
      ],
      "metadata": {
        "colab": {
          "base_uri": "https://localhost:8080/"
        },
        "id": "nSEI2dU5Lkst",
        "outputId": "3c17f8e9-62f2-4aca-d1f1-2cf9c9d57c84"
      },
      "execution_count": null,
      "outputs": [
        {
          "output_type": "stream",
          "name": "stdout",
          "text": [
            "   No Peserta                                       Nama              Jurusan  \\\n",
            "0      DS5G09                             Muhamad Fauzi            Manajemen    \n",
            "1      DS5G16                        Silvia Anisah Lubis  Administrasi Bisnis   \n",
            "2      DS5G08                          Bita Azizy Hamida           Statistika   \n",
            "3      DS5G02                     Rih Prajna Nurfatikha     Sistem Informasi    \n",
            "4      DS5G01                                Fayza Aulia          Informatika   \n",
            "5      DS5G05                             Nada Salsabila           Sains Data   \n",
            "6      DS5G23                    Amos Hatoguan Sihombing           Matematika   \n",
            "7      DS5G20                      Anjar Ayuning Lestari   Teknik Informatika   \n",
            "8      DS5G13                          Rizka Rahmikasari           Matematika   \n",
            "9      DS5G07                    Rachmat Faisal Manurung   Teknik Informatika   \n",
            "10     DS5G14                                 Aji Saeful          Informatika   \n",
            "11     DS5G12  Tarida Grace Wahyuni Margaretha Sidabutar          Informatika   \n",
            "12     DS5G04                           Fitria Rahmadani          Informatika   \n",
            "13     DS5G11                    Muhammad Ilham Pradipta   Teknik Informatika   \n",
            "14     DS5G21            Nurul Jumnatha Fajar Nofitasari            Manajemen   \n",
            "15     DS5G17                      Daffa Rayhan Fadhilla          Informatika   \n",
            "16     DS5G19                        Maqhfirotul Khusna           Matematika    \n",
            "17     DS5G22                     Oktaviani Esty Susanti           Statistika   \n",
            "18     DS5G03                    Maylinna Rahayu Ningsih   Teknik Informatika   \n",
            "19     DS5G18                            Rafifah Rabbani         Ilmu Ekonomi   \n",
            "20     DS5G06                               Faiz Fathoni          Informatika   \n",
            "21     DS5G15                     Muhammad Cahyo Nugroho          Informatika   \n",
            "\n",
            "    Berat Badan (Kg)  Tinggi Badan (Cm)  \n",
            "0                 88                178  \n",
            "1                 42                150  \n",
            "2                 55                158  \n",
            "3                 60                154  \n",
            "4                 60                153  \n",
            "5                 45                150  \n",
            "6                100                178  \n",
            "7                 36                150  \n",
            "8                 45                155  \n",
            "9                 50                173  \n",
            "10                62                173  \n",
            "11                50                156  \n",
            "12                48                153  \n",
            "13                56                169  \n",
            "14                49                156  \n",
            "15                80                175  \n",
            "16                50                149  \n",
            "17                43                157  \n",
            "18                70                161  \n",
            "19                44                151  \n",
            "20                67                163  \n",
            "21                60                173  \n",
            "<class 'pandas.core.frame.DataFrame'>\n",
            "RangeIndex: 22 entries, 0 to 21\n",
            "Data columns (total 5 columns):\n",
            " #   Column             Non-Null Count  Dtype \n",
            "---  ------             --------------  ----- \n",
            " 0   No Peserta         22 non-null     object\n",
            " 1   Nama               22 non-null     object\n",
            " 2   Jurusan            22 non-null     object\n",
            " 3   Berat Badan (Kg)   22 non-null     int64 \n",
            " 4   Tinggi Badan (Cm)  22 non-null     int64 \n",
            "dtypes: int64(2), object(3)\n",
            "memory usage: 1008.0+ bytes\n"
          ]
        }
      ]
    },
    {
      "cell_type": "markdown",
      "source": [
        "1.Tipe data pada dataset terdiri atas object (3) dan int64 (2) |\n",
        "2.Total Kolom ada 5 dan 22 baris"
      ],
      "metadata": {
        "id": "hI0yPpAIUvvF"
      }
    },
    {
      "cell_type": "markdown",
      "source": [
        "## **2. Hitunglah BMI setiap siswa**"
      ],
      "metadata": {
        "id": "cLoM0fW_WxAD"
      }
    },
    {
      "cell_type": "code",
      "source": [
        "import pandas as pd\n",
        "df = pd.read_excel('/content/drive/MyDrive/Colab Notebooks/Data Assignment Kompi G.xlsx')\n",
        "# Menghitung BMI dengan batasan dua angka di belakang koma\n",
        "df['BMI'] = (df['Berat Badan (Kg)'] / (df['Tinggi Badan (Cm)'] / 100) ** 2).round(2)\n",
        "# Menampilkan kolom BMI\n",
        "df[['Nama', 'BMI']]"
      ],
      "metadata": {
        "colab": {
          "base_uri": "https://localhost:8080/",
          "height": 739
        },
        "id": "aAjhZCwGUWTH",
        "outputId": "0503a503-6b3f-45df-c3c2-007fa21453a2"
      },
      "execution_count": null,
      "outputs": [
        {
          "output_type": "execute_result",
          "data": {
            "text/plain": [
              "                                         Nama    BMI\n",
              "0                              Muhamad Fauzi   27.77\n",
              "1                         Silvia Anisah Lubis  18.67\n",
              "2                           Bita Azizy Hamida  22.03\n",
              "3                      Rih Prajna Nurfatikha   25.30\n",
              "4                                 Fayza Aulia  25.63\n",
              "5                              Nada Salsabila  20.00\n",
              "6                     Amos Hatoguan Sihombing  31.56\n",
              "7                       Anjar Ayuning Lestari  16.00\n",
              "8                           Rizka Rahmikasari  18.73\n",
              "9                     Rachmat Faisal Manurung  16.71\n",
              "10                                 Aji Saeful  20.72\n",
              "11  Tarida Grace Wahyuni Margaretha Sidabutar  20.55\n",
              "12                           Fitria Rahmadani  20.50\n",
              "13                    Muhammad Ilham Pradipta  19.61\n",
              "14            Nurul Jumnatha Fajar Nofitasari  20.13\n",
              "15                      Daffa Rayhan Fadhilla  26.12\n",
              "16                        Maqhfirotul Khusna   22.52\n",
              "17                     Oktaviani Esty Susanti  17.44\n",
              "18                    Maylinna Rahayu Ningsih  27.01\n",
              "19                            Rafifah Rabbani  19.30\n",
              "20                               Faiz Fathoni  25.22\n",
              "21                     Muhammad Cahyo Nugroho  20.05"
            ],
            "text/html": [
              "\n",
              "  <div id=\"df-ffb74df7-9b5c-4a50-a1bb-c44edbc23452\" class=\"colab-df-container\">\n",
              "    <div>\n",
              "<style scoped>\n",
              "    .dataframe tbody tr th:only-of-type {\n",
              "        vertical-align: middle;\n",
              "    }\n",
              "\n",
              "    .dataframe tbody tr th {\n",
              "        vertical-align: top;\n",
              "    }\n",
              "\n",
              "    .dataframe thead th {\n",
              "        text-align: right;\n",
              "    }\n",
              "</style>\n",
              "<table border=\"1\" class=\"dataframe\">\n",
              "  <thead>\n",
              "    <tr style=\"text-align: right;\">\n",
              "      <th></th>\n",
              "      <th>Nama</th>\n",
              "      <th>BMI</th>\n",
              "    </tr>\n",
              "  </thead>\n",
              "  <tbody>\n",
              "    <tr>\n",
              "      <th>0</th>\n",
              "      <td>Muhamad Fauzi</td>\n",
              "      <td>27.77</td>\n",
              "    </tr>\n",
              "    <tr>\n",
              "      <th>1</th>\n",
              "      <td>Silvia Anisah Lubis</td>\n",
              "      <td>18.67</td>\n",
              "    </tr>\n",
              "    <tr>\n",
              "      <th>2</th>\n",
              "      <td>Bita Azizy Hamida</td>\n",
              "      <td>22.03</td>\n",
              "    </tr>\n",
              "    <tr>\n",
              "      <th>3</th>\n",
              "      <td>Rih Prajna Nurfatikha</td>\n",
              "      <td>25.30</td>\n",
              "    </tr>\n",
              "    <tr>\n",
              "      <th>4</th>\n",
              "      <td>Fayza Aulia</td>\n",
              "      <td>25.63</td>\n",
              "    </tr>\n",
              "    <tr>\n",
              "      <th>5</th>\n",
              "      <td>Nada Salsabila</td>\n",
              "      <td>20.00</td>\n",
              "    </tr>\n",
              "    <tr>\n",
              "      <th>6</th>\n",
              "      <td>Amos Hatoguan Sihombing</td>\n",
              "      <td>31.56</td>\n",
              "    </tr>\n",
              "    <tr>\n",
              "      <th>7</th>\n",
              "      <td>Anjar Ayuning Lestari</td>\n",
              "      <td>16.00</td>\n",
              "    </tr>\n",
              "    <tr>\n",
              "      <th>8</th>\n",
              "      <td>Rizka Rahmikasari</td>\n",
              "      <td>18.73</td>\n",
              "    </tr>\n",
              "    <tr>\n",
              "      <th>9</th>\n",
              "      <td>Rachmat Faisal Manurung</td>\n",
              "      <td>16.71</td>\n",
              "    </tr>\n",
              "    <tr>\n",
              "      <th>10</th>\n",
              "      <td>Aji Saeful</td>\n",
              "      <td>20.72</td>\n",
              "    </tr>\n",
              "    <tr>\n",
              "      <th>11</th>\n",
              "      <td>Tarida Grace Wahyuni Margaretha Sidabutar</td>\n",
              "      <td>20.55</td>\n",
              "    </tr>\n",
              "    <tr>\n",
              "      <th>12</th>\n",
              "      <td>Fitria Rahmadani</td>\n",
              "      <td>20.50</td>\n",
              "    </tr>\n",
              "    <tr>\n",
              "      <th>13</th>\n",
              "      <td>Muhammad Ilham Pradipta</td>\n",
              "      <td>19.61</td>\n",
              "    </tr>\n",
              "    <tr>\n",
              "      <th>14</th>\n",
              "      <td>Nurul Jumnatha Fajar Nofitasari</td>\n",
              "      <td>20.13</td>\n",
              "    </tr>\n",
              "    <tr>\n",
              "      <th>15</th>\n",
              "      <td>Daffa Rayhan Fadhilla</td>\n",
              "      <td>26.12</td>\n",
              "    </tr>\n",
              "    <tr>\n",
              "      <th>16</th>\n",
              "      <td>Maqhfirotul Khusna</td>\n",
              "      <td>22.52</td>\n",
              "    </tr>\n",
              "    <tr>\n",
              "      <th>17</th>\n",
              "      <td>Oktaviani Esty Susanti</td>\n",
              "      <td>17.44</td>\n",
              "    </tr>\n",
              "    <tr>\n",
              "      <th>18</th>\n",
              "      <td>Maylinna Rahayu Ningsih</td>\n",
              "      <td>27.01</td>\n",
              "    </tr>\n",
              "    <tr>\n",
              "      <th>19</th>\n",
              "      <td>Rafifah Rabbani</td>\n",
              "      <td>19.30</td>\n",
              "    </tr>\n",
              "    <tr>\n",
              "      <th>20</th>\n",
              "      <td>Faiz Fathoni</td>\n",
              "      <td>25.22</td>\n",
              "    </tr>\n",
              "    <tr>\n",
              "      <th>21</th>\n",
              "      <td>Muhammad Cahyo Nugroho</td>\n",
              "      <td>20.05</td>\n",
              "    </tr>\n",
              "  </tbody>\n",
              "</table>\n",
              "</div>\n",
              "    <div class=\"colab-df-buttons\">\n",
              "\n",
              "  <div class=\"colab-df-container\">\n",
              "    <button class=\"colab-df-convert\" onclick=\"convertToInteractive('df-ffb74df7-9b5c-4a50-a1bb-c44edbc23452')\"\n",
              "            title=\"Convert this dataframe to an interactive table.\"\n",
              "            style=\"display:none;\">\n",
              "\n",
              "  <svg xmlns=\"http://www.w3.org/2000/svg\" height=\"24px\" viewBox=\"0 -960 960 960\">\n",
              "    <path d=\"M120-120v-720h720v720H120Zm60-500h600v-160H180v160Zm220 220h160v-160H400v160Zm0 220h160v-160H400v160ZM180-400h160v-160H180v160Zm440 0h160v-160H620v160ZM180-180h160v-160H180v160Zm440 0h160v-160H620v160Z\"/>\n",
              "  </svg>\n",
              "    </button>\n",
              "\n",
              "  <style>\n",
              "    .colab-df-container {\n",
              "      display:flex;\n",
              "      gap: 12px;\n",
              "    }\n",
              "\n",
              "    .colab-df-convert {\n",
              "      background-color: #E8F0FE;\n",
              "      border: none;\n",
              "      border-radius: 50%;\n",
              "      cursor: pointer;\n",
              "      display: none;\n",
              "      fill: #1967D2;\n",
              "      height: 32px;\n",
              "      padding: 0 0 0 0;\n",
              "      width: 32px;\n",
              "    }\n",
              "\n",
              "    .colab-df-convert:hover {\n",
              "      background-color: #E2EBFA;\n",
              "      box-shadow: 0px 1px 2px rgba(60, 64, 67, 0.3), 0px 1px 3px 1px rgba(60, 64, 67, 0.15);\n",
              "      fill: #174EA6;\n",
              "    }\n",
              "\n",
              "    .colab-df-buttons div {\n",
              "      margin-bottom: 4px;\n",
              "    }\n",
              "\n",
              "    [theme=dark] .colab-df-convert {\n",
              "      background-color: #3B4455;\n",
              "      fill: #D2E3FC;\n",
              "    }\n",
              "\n",
              "    [theme=dark] .colab-df-convert:hover {\n",
              "      background-color: #434B5C;\n",
              "      box-shadow: 0px 1px 3px 1px rgba(0, 0, 0, 0.15);\n",
              "      filter: drop-shadow(0px 1px 2px rgba(0, 0, 0, 0.3));\n",
              "      fill: #FFFFFF;\n",
              "    }\n",
              "  </style>\n",
              "\n",
              "    <script>\n",
              "      const buttonEl =\n",
              "        document.querySelector('#df-ffb74df7-9b5c-4a50-a1bb-c44edbc23452 button.colab-df-convert');\n",
              "      buttonEl.style.display =\n",
              "        google.colab.kernel.accessAllowed ? 'block' : 'none';\n",
              "\n",
              "      async function convertToInteractive(key) {\n",
              "        const element = document.querySelector('#df-ffb74df7-9b5c-4a50-a1bb-c44edbc23452');\n",
              "        const dataTable =\n",
              "          await google.colab.kernel.invokeFunction('convertToInteractive',\n",
              "                                                    [key], {});\n",
              "        if (!dataTable) return;\n",
              "\n",
              "        const docLinkHtml = 'Like what you see? Visit the ' +\n",
              "          '<a target=\"_blank\" href=https://colab.research.google.com/notebooks/data_table.ipynb>data table notebook</a>'\n",
              "          + ' to learn more about interactive tables.';\n",
              "        element.innerHTML = '';\n",
              "        dataTable['output_type'] = 'display_data';\n",
              "        await google.colab.output.renderOutput(dataTable, element);\n",
              "        const docLink = document.createElement('div');\n",
              "        docLink.innerHTML = docLinkHtml;\n",
              "        element.appendChild(docLink);\n",
              "      }\n",
              "    </script>\n",
              "  </div>\n",
              "\n",
              "\n",
              "<div id=\"df-87e45d80-78d2-4335-8935-11aa1dbd3211\">\n",
              "  <button class=\"colab-df-quickchart\" onclick=\"quickchart('df-87e45d80-78d2-4335-8935-11aa1dbd3211')\"\n",
              "            title=\"Suggest charts.\"\n",
              "            style=\"display:none;\">\n",
              "\n",
              "<svg xmlns=\"http://www.w3.org/2000/svg\" height=\"24px\"viewBox=\"0 0 24 24\"\n",
              "     width=\"24px\">\n",
              "    <g>\n",
              "        <path d=\"M19 3H5c-1.1 0-2 .9-2 2v14c0 1.1.9 2 2 2h14c1.1 0 2-.9 2-2V5c0-1.1-.9-2-2-2zM9 17H7v-7h2v7zm4 0h-2V7h2v10zm4 0h-2v-4h2v4z\"/>\n",
              "    </g>\n",
              "</svg>\n",
              "  </button>\n",
              "\n",
              "<style>\n",
              "  .colab-df-quickchart {\n",
              "      --bg-color: #E8F0FE;\n",
              "      --fill-color: #1967D2;\n",
              "      --hover-bg-color: #E2EBFA;\n",
              "      --hover-fill-color: #174EA6;\n",
              "      --disabled-fill-color: #AAA;\n",
              "      --disabled-bg-color: #DDD;\n",
              "  }\n",
              "\n",
              "  [theme=dark] .colab-df-quickchart {\n",
              "      --bg-color: #3B4455;\n",
              "      --fill-color: #D2E3FC;\n",
              "      --hover-bg-color: #434B5C;\n",
              "      --hover-fill-color: #FFFFFF;\n",
              "      --disabled-bg-color: #3B4455;\n",
              "      --disabled-fill-color: #666;\n",
              "  }\n",
              "\n",
              "  .colab-df-quickchart {\n",
              "    background-color: var(--bg-color);\n",
              "    border: none;\n",
              "    border-radius: 50%;\n",
              "    cursor: pointer;\n",
              "    display: none;\n",
              "    fill: var(--fill-color);\n",
              "    height: 32px;\n",
              "    padding: 0;\n",
              "    width: 32px;\n",
              "  }\n",
              "\n",
              "  .colab-df-quickchart:hover {\n",
              "    background-color: var(--hover-bg-color);\n",
              "    box-shadow: 0 1px 2px rgba(60, 64, 67, 0.3), 0 1px 3px 1px rgba(60, 64, 67, 0.15);\n",
              "    fill: var(--button-hover-fill-color);\n",
              "  }\n",
              "\n",
              "  .colab-df-quickchart-complete:disabled,\n",
              "  .colab-df-quickchart-complete:disabled:hover {\n",
              "    background-color: var(--disabled-bg-color);\n",
              "    fill: var(--disabled-fill-color);\n",
              "    box-shadow: none;\n",
              "  }\n",
              "\n",
              "  .colab-df-spinner {\n",
              "    border: 2px solid var(--fill-color);\n",
              "    border-color: transparent;\n",
              "    border-bottom-color: var(--fill-color);\n",
              "    animation:\n",
              "      spin 1s steps(1) infinite;\n",
              "  }\n",
              "\n",
              "  @keyframes spin {\n",
              "    0% {\n",
              "      border-color: transparent;\n",
              "      border-bottom-color: var(--fill-color);\n",
              "      border-left-color: var(--fill-color);\n",
              "    }\n",
              "    20% {\n",
              "      border-color: transparent;\n",
              "      border-left-color: var(--fill-color);\n",
              "      border-top-color: var(--fill-color);\n",
              "    }\n",
              "    30% {\n",
              "      border-color: transparent;\n",
              "      border-left-color: var(--fill-color);\n",
              "      border-top-color: var(--fill-color);\n",
              "      border-right-color: var(--fill-color);\n",
              "    }\n",
              "    40% {\n",
              "      border-color: transparent;\n",
              "      border-right-color: var(--fill-color);\n",
              "      border-top-color: var(--fill-color);\n",
              "    }\n",
              "    60% {\n",
              "      border-color: transparent;\n",
              "      border-right-color: var(--fill-color);\n",
              "    }\n",
              "    80% {\n",
              "      border-color: transparent;\n",
              "      border-right-color: var(--fill-color);\n",
              "      border-bottom-color: var(--fill-color);\n",
              "    }\n",
              "    90% {\n",
              "      border-color: transparent;\n",
              "      border-bottom-color: var(--fill-color);\n",
              "    }\n",
              "  }\n",
              "</style>\n",
              "\n",
              "  <script>\n",
              "    async function quickchart(key) {\n",
              "      const quickchartButtonEl =\n",
              "        document.querySelector('#' + key + ' button');\n",
              "      quickchartButtonEl.disabled = true;  // To prevent multiple clicks.\n",
              "      quickchartButtonEl.classList.add('colab-df-spinner');\n",
              "      try {\n",
              "        const charts = await google.colab.kernel.invokeFunction(\n",
              "            'suggestCharts', [key], {});\n",
              "      } catch (error) {\n",
              "        console.error('Error during call to suggestCharts:', error);\n",
              "      }\n",
              "      quickchartButtonEl.classList.remove('colab-df-spinner');\n",
              "      quickchartButtonEl.classList.add('colab-df-quickchart-complete');\n",
              "    }\n",
              "    (() => {\n",
              "      let quickchartButtonEl =\n",
              "        document.querySelector('#df-87e45d80-78d2-4335-8935-11aa1dbd3211 button');\n",
              "      quickchartButtonEl.style.display =\n",
              "        google.colab.kernel.accessAllowed ? 'block' : 'none';\n",
              "    })();\n",
              "  </script>\n",
              "</div>\n",
              "    </div>\n",
              "  </div>\n"
            ]
          },
          "metadata": {},
          "execution_count": 1
        }
      ]
    },
    {
      "cell_type": "markdown",
      "source": [
        "## **3. Buatlah Program Untuk Menghitung BMI**"
      ],
      "metadata": {
        "id": "uy9mTMbfdox2"
      }
    },
    {
      "cell_type": "code",
      "source": [
        "# Input berat badan (kg) dan tinggi badan (m)\n",
        "berat_badan = float(input(\"Masukkan berat badan (kg): \"))\n",
        "tinggi_badan = float(input(\"Masukkan tinggi badan (cm): \"))\n",
        "\n",
        "bmi = berat_badan / ((tinggi_badan / 100) ** 2)\n",
        "\n",
        "print(\"BMI Anda adalah:\", bmi)\n",
        "\n",
        "if bmi < 18.5:\n",
        "    kategori = \"Underweight (Kurus)\"\n",
        "elif 18.5 <= bmi < 24.9:\n",
        "    kategori = \"Normal (Sehat)\"\n",
        "elif 25.0 <= bmi < 29.9:\n",
        "    kategori = \"Overweight (Gemuk)\"\n",
        "else:\n",
        "    kategori = \"Obesity (Obesitas)\"\n",
        "\n",
        "print(\"Kategori BMI Anda adalah:\", kategori)"
      ],
      "metadata": {
        "colab": {
          "base_uri": "https://localhost:8080/",
          "height": 391
        },
        "id": "O0EMlaXGeFe_",
        "outputId": "57f21942-fefe-417d-fcd3-7258839a0384"
      },
      "execution_count": null,
      "outputs": [
        {
          "output_type": "error",
          "ename": "KeyboardInterrupt",
          "evalue": "ignored",
          "traceback": [
            "\u001b[0;31m---------------------------------------------------------------------------\u001b[0m",
            "\u001b[0;31mKeyboardInterrupt\u001b[0m                         Traceback (most recent call last)",
            "\u001b[0;32m<ipython-input-2-0e174b26f16c>\u001b[0m in \u001b[0;36m<cell line: 2>\u001b[0;34m()\u001b[0m\n\u001b[1;32m      1\u001b[0m \u001b[0;31m# Input berat badan (kg) dan tinggi badan (m)\u001b[0m\u001b[0;34m\u001b[0m\u001b[0;34m\u001b[0m\u001b[0m\n\u001b[0;32m----> 2\u001b[0;31m \u001b[0mberat_badan\u001b[0m \u001b[0;34m=\u001b[0m \u001b[0mfloat\u001b[0m\u001b[0;34m(\u001b[0m\u001b[0minput\u001b[0m\u001b[0;34m(\u001b[0m\u001b[0;34m\"Masukkan berat badan (kg): \"\u001b[0m\u001b[0;34m)\u001b[0m\u001b[0;34m)\u001b[0m\u001b[0;34m\u001b[0m\u001b[0;34m\u001b[0m\u001b[0m\n\u001b[0m\u001b[1;32m      3\u001b[0m \u001b[0mtinggi_badan\u001b[0m \u001b[0;34m=\u001b[0m \u001b[0mfloat\u001b[0m\u001b[0;34m(\u001b[0m\u001b[0minput\u001b[0m\u001b[0;34m(\u001b[0m\u001b[0;34m\"Masukkan tinggi badan (cm): \"\u001b[0m\u001b[0;34m)\u001b[0m\u001b[0;34m)\u001b[0m\u001b[0;34m\u001b[0m\u001b[0;34m\u001b[0m\u001b[0m\n\u001b[1;32m      4\u001b[0m \u001b[0;34m\u001b[0m\u001b[0m\n\u001b[1;32m      5\u001b[0m \u001b[0mbmi\u001b[0m \u001b[0;34m=\u001b[0m \u001b[0mberat_badan\u001b[0m \u001b[0;34m/\u001b[0m \u001b[0;34m(\u001b[0m\u001b[0;34m(\u001b[0m\u001b[0mtinggi_badan\u001b[0m \u001b[0;34m/\u001b[0m \u001b[0;36m100\u001b[0m\u001b[0;34m)\u001b[0m \u001b[0;34m**\u001b[0m \u001b[0;36m2\u001b[0m\u001b[0;34m)\u001b[0m\u001b[0;34m\u001b[0m\u001b[0;34m\u001b[0m\u001b[0m\n",
            "\u001b[0;32m/usr/local/lib/python3.10/dist-packages/ipykernel/kernelbase.py\u001b[0m in \u001b[0;36mraw_input\u001b[0;34m(self, prompt)\u001b[0m\n\u001b[1;32m    849\u001b[0m                 \u001b[0;34m\"raw_input was called, but this frontend does not support input requests.\"\u001b[0m\u001b[0;34m\u001b[0m\u001b[0;34m\u001b[0m\u001b[0m\n\u001b[1;32m    850\u001b[0m             )\n\u001b[0;32m--> 851\u001b[0;31m         return self._input_request(str(prompt),\n\u001b[0m\u001b[1;32m    852\u001b[0m             \u001b[0mself\u001b[0m\u001b[0;34m.\u001b[0m\u001b[0m_parent_ident\u001b[0m\u001b[0;34m,\u001b[0m\u001b[0;34m\u001b[0m\u001b[0;34m\u001b[0m\u001b[0m\n\u001b[1;32m    853\u001b[0m             \u001b[0mself\u001b[0m\u001b[0;34m.\u001b[0m\u001b[0m_parent_header\u001b[0m\u001b[0;34m,\u001b[0m\u001b[0;34m\u001b[0m\u001b[0;34m\u001b[0m\u001b[0m\n",
            "\u001b[0;32m/usr/local/lib/python3.10/dist-packages/ipykernel/kernelbase.py\u001b[0m in \u001b[0;36m_input_request\u001b[0;34m(self, prompt, ident, parent, password)\u001b[0m\n\u001b[1;32m    893\u001b[0m             \u001b[0;32mexcept\u001b[0m \u001b[0mKeyboardInterrupt\u001b[0m\u001b[0;34m:\u001b[0m\u001b[0;34m\u001b[0m\u001b[0;34m\u001b[0m\u001b[0m\n\u001b[1;32m    894\u001b[0m                 \u001b[0;31m# re-raise KeyboardInterrupt, to truncate traceback\u001b[0m\u001b[0;34m\u001b[0m\u001b[0;34m\u001b[0m\u001b[0m\n\u001b[0;32m--> 895\u001b[0;31m                 \u001b[0;32mraise\u001b[0m \u001b[0mKeyboardInterrupt\u001b[0m\u001b[0;34m(\u001b[0m\u001b[0;34m\"Interrupted by user\"\u001b[0m\u001b[0;34m)\u001b[0m \u001b[0;32mfrom\u001b[0m \u001b[0;32mNone\u001b[0m\u001b[0;34m\u001b[0m\u001b[0;34m\u001b[0m\u001b[0m\n\u001b[0m\u001b[1;32m    896\u001b[0m             \u001b[0;32mexcept\u001b[0m \u001b[0mException\u001b[0m \u001b[0;32mas\u001b[0m \u001b[0me\u001b[0m\u001b[0;34m:\u001b[0m\u001b[0;34m\u001b[0m\u001b[0;34m\u001b[0m\u001b[0m\n\u001b[1;32m    897\u001b[0m                 \u001b[0mself\u001b[0m\u001b[0;34m.\u001b[0m\u001b[0mlog\u001b[0m\u001b[0;34m.\u001b[0m\u001b[0mwarning\u001b[0m\u001b[0;34m(\u001b[0m\u001b[0;34m\"Invalid Message:\"\u001b[0m\u001b[0;34m,\u001b[0m \u001b[0mexc_info\u001b[0m\u001b[0;34m=\u001b[0m\u001b[0;32mTrue\u001b[0m\u001b[0;34m)\u001b[0m\u001b[0;34m\u001b[0m\u001b[0;34m\u001b[0m\u001b[0m\n",
            "\u001b[0;31mKeyboardInterrupt\u001b[0m: Interrupted by user"
          ]
        }
      ]
    },
    {
      "cell_type": "markdown",
      "source": [
        "## **4. Update dataframe df dengan menambahkan hasil perhitungan soal nomor 2, beri nama kolom BMI**"
      ],
      "metadata": {
        "id": "mqPOdXizlK0s"
      }
    },
    {
      "cell_type": "code",
      "source": [
        "# Menambahkan kolom BMI ke DataFrame dengan nama \"BMI\"\n",
        "df = df.assign(BMI=(df['Berat Badan (Kg)'] / (df['Tinggi Badan (Cm)'] / 100) ** 2).round(2))\n",
        "print(df[['No Peserta', 'Nama', 'Jurusan', 'Berat Badan (Kg)', 'Tinggi Badan (Cm)', 'BMI']])\n",
        "\n",
        "df.to_excel('/content/drive/MyDrive/Colab Notebooks/BMI.xlsx', index=False)"
      ],
      "metadata": {
        "id": "kzRigpRclWrX"
      },
      "execution_count": null,
      "outputs": []
    },
    {
      "cell_type": "markdown",
      "source": [
        "## **5. Buatlah status BMI untuk setiap siswa dari kategori berikut**"
      ],
      "metadata": {
        "id": "7VkswXHQpRR2"
      }
    },
    {
      "cell_type": "code",
      "source": [
        "import pandas as pd\n",
        "\n",
        "df = pd.read_excel('/content/drive/MyDrive/Colab Notebooks/Data Assignment Kompi G.xlsx')\n",
        "df['BMI'] = (df['Berat Badan (Kg)'] / (df['Tinggi Badan (Cm)'] / 100)** 2).round(2)\n",
        "df['Status BMI'] = pd.cut(df['BMI'], bins=[0, 18.4, 24.9, 29.9, 100], labels=['Underweight', 'Normal', 'Overweight', 'Obesity'])\n",
        "\n",
        "df.to_excel('/content/drive/MyDrive/Colab Notebooks/Hasil Status BMI.xlsx', index=False)"
      ],
      "metadata": {
        "id": "VOI7WnzhpbBl"
      },
      "execution_count": null,
      "outputs": []
    },
    {
      "cell_type": "markdown",
      "source": [
        "## **Soal No. 6**"
      ],
      "metadata": {
        "id": "4WZIsFwlt9bt"
      }
    },
    {
      "cell_type": "code",
      "source": [
        "# a. Buatlah variabel baru lalu urutkan data berdasarkan tinggi badan dari yang tertinggi ke rendah.\n",
        "\n",
        "import pandas as pd\n",
        "\n",
        "df = pd.read_excel('/content/drive/MyDrive/Colab Notebooks/Data Assignment Kompi G.xlsx')\n",
        "# Mengurutkan data berdasarkan tinggi badan dari tertinggi ke terendah\n",
        "df = df.sort_values(by='Tinggi Badan (Cm)', ascending=False)\n",
        "\n",
        "df.to_excel('/content/drive/MyDrive/Colab Notebooks/Hasil Urutan Data Tertinggi.xlsx', index=False)"
      ],
      "metadata": {
        "id": "pGmVx0dbuHzt"
      },
      "execution_count": null,
      "outputs": []
    },
    {
      "cell_type": "code",
      "source": [
        "# b. Buatlah variabel baru lalu urutkan data berdasarkan nama dari Z-A\n",
        "\n",
        "import pandas as pd\n",
        "\n",
        "df = pd.read_excel('/content/drive/MyDrive/Colab Notebooks/Data Assignment Kompi G.xlsx')\n",
        "df['Nama_Siswa'] = df['Nama'].str[::-1]\n",
        "df = df.sort_values(by='Nama', ascending=False)\n",
        "df.drop(columns=['Nama_Siswa'], inplace=True)\n",
        "\n",
        "df.to_excel('/content/drive/MyDrive/Colab Notebooks/Hasil Urutan Nama.xlsx', index=False)"
      ],
      "metadata": {
        "id": "KndbKAnfu_-Z"
      },
      "execution_count": null,
      "outputs": []
    },
    {
      "cell_type": "markdown",
      "source": [
        "## **Soal No. 7**"
      ],
      "metadata": {
        "id": "xrO40ymEJ5rM"
      }
    },
    {
      "cell_type": "code",
      "source": [
        "# a. Status BMI di luar\n",
        "\n",
        "import pandas as pd\n",
        "\n",
        "df = pd.read_excel('/content/drive/MyDrive/Colab Notebooks/Hasil Status BMI.xlsx')\n",
        "filtered_df = df[df['Status BMI'] != 'Normal']\n",
        "\n",
        "filtered_df.to_excel('/content/drive/MyDrive/Colab Notebooks/Status BMI di luar Normal.xlsx', index=False)"
      ],
      "metadata": {
        "id": "zghV16ddJ_oI"
      },
      "execution_count": null,
      "outputs": []
    },
    {
      "cell_type": "code",
      "source": [
        "# Tinggi Badan > 169 cm dan Berat Badan > 60 kg\n",
        "\n",
        "import pandas as pd\n",
        "\n",
        "df = pd.read_excel('/content/drive/MyDrive/Colab Notebooks/Data Assignment Kompi G.xlsx')\n",
        "filtered_df = df[(df['Tinggi Badan(Cm)'] > 169) & (df['Berat Badan (Kg)'] > 60)]\n",
        "\n",
        "filtered_df.to_excel('/content/drive/MyDrive/Colab Notebooks/Hasil Kondisi BB dan TB.xlsx', index=False)"
      ],
      "metadata": {
        "id": "65FpoxPcLZiI"
      },
      "execution_count": null,
      "outputs": []
    },
    {
      "cell_type": "markdown",
      "source": [
        "## **Soal No. 8**"
      ],
      "metadata": {
        "id": "BfUufuG-MrXv"
      }
    },
    {
      "cell_type": "code",
      "source": [
        "import pandas as pd\n",
        "\n",
        "df = pd.read_excel('/content/drive/MyDrive/Colab Notebooks/Data Assignment Kompi G.xlsx')\n",
        "df.insert(0, 'No.', range(1, len(df) + 1))\n",
        "\n",
        "df.to_excel('/content/drive/MyDrive/Colab Notebooks/Data Terbaru.xlsx', index=False)"
      ],
      "metadata": {
        "id": "Ni6gSMjuM4Y8"
      },
      "execution_count": null,
      "outputs": []
    },
    {
      "cell_type": "markdown",
      "source": [
        "## **Soal No. 9**"
      ],
      "metadata": {
        "id": "NPBEU1chMs75"
      }
    },
    {
      "cell_type": "code",
      "source": [
        "# Mengelompokan sesuai dengan tinggi badan dan berat badan\n",
        "\n",
        "import pandas as pd\n",
        "\n",
        "df = pd.read_excel('/content/drive/MyDrive/Colab Notebooks/Data Assignment Kompi G.xlsx')\n",
        "grouped_data = df.groupby(['Tinggi Badan (Cm)', 'Berat Badan (Kg)'])\n",
        "count_per_group = grouped_data.size().reset_index(name='Jumlah Siswa')\n",
        "print(count_per_group)"
      ],
      "metadata": {
        "colab": {
          "base_uri": "https://localhost:8080/"
        },
        "id": "I-VzRvkEPTNW",
        "outputId": "86e298c8-d72a-4242-aea0-08e6c5e94332"
      },
      "execution_count": null,
      "outputs": [
        {
          "output_type": "stream",
          "name": "stdout",
          "text": [
            "    Tinggi Badan (Cm)  Berat Badan (Kg)  Jumlah Siswa\n",
            "0                 149                50             1\n",
            "1                 150                36             1\n",
            "2                 150                42             1\n",
            "3                 150                45             1\n",
            "4                 151                44             1\n",
            "5                 153                48             1\n",
            "6                 153                60             1\n",
            "7                 154                60             1\n",
            "8                 155                45             1\n",
            "9                 156                49             1\n",
            "10                156                50             1\n",
            "11                157                43             1\n",
            "12                158                55             1\n",
            "13                161                70             1\n",
            "14                163                67             1\n",
            "15                169                56             1\n",
            "16                173                50             1\n",
            "17                173                60             1\n",
            "18                173                62             1\n",
            "19                175                80             1\n",
            "20                178                88             1\n",
            "21                178               100             1\n"
          ]
        }
      ]
    },
    {
      "cell_type": "code",
      "source": [
        "# Mencari nilai tertinggi dan terendah\n",
        "\n",
        "import pandas as pd\n",
        "\n",
        "df = pd.read_excel('/content/drive/MyDrive/Colab Notebooks/Data Assignment Kompi G.xlsx')\n",
        "tinggi_terendah = df['Tinggi Badan (Cm)'].min()\n",
        "tinggi_tertinggi = df['Tinggi Badan (Cm)'].max()\n",
        "print(\"Nilai terendah tinggi badan:\", tinggi_terendah)\n",
        "print(\"Nilai tertinggi tinggi badan:\", tinggi_tertinggi)"
      ],
      "metadata": {
        "colab": {
          "base_uri": "https://localhost:8080/"
        },
        "id": "v9LVuYfGP4Wm",
        "outputId": "6b11b6a8-4b57-4e7f-aa9e-2729d9b3eb76"
      },
      "execution_count": null,
      "outputs": [
        {
          "output_type": "stream",
          "name": "stdout",
          "text": [
            "Nilai terendah tinggi badan: 149\n",
            "Nilai tertinggi tinggi badan: 178\n"
          ]
        }
      ]
    },
    {
      "cell_type": "code",
      "source": [
        "# rata rata tinggi badan siswa\n",
        "\n",
        "import pandas as pd\n",
        "df = pd.read_excel('/content/drive/MyDrive/Colab Notebooks/Data Assignment Kompi G.xlsx')\n",
        "rata_rata_tinggi = df['Tinggi Badan (Cm)'].mean().round(2)\n",
        "print(\"Rata-rata tinggi badan siswa:\", rata_rata_tinggi)\n"
      ],
      "metadata": {
        "colab": {
          "base_uri": "https://localhost:8080/"
        },
        "id": "a07JJiKTQvsL",
        "outputId": "cf9ae0ea-cb55-4503-8507-d4e764577d5d"
      },
      "execution_count": null,
      "outputs": [
        {
          "output_type": "stream",
          "name": "stdout",
          "text": [
            "Rata-rata tinggi badan siswa: 160.68\n"
          ]
        }
      ]
    },
    {
      "cell_type": "code",
      "source": [
        "# rata rata berat badan siswa\n",
        "\n",
        "import pandas as pd\n",
        "df = pd.read_excel('/content/drive/MyDrive/Colab Notebooks/Data Assignment Kompi G.xlsx')\n",
        "rata_rata_berat = df['Berat Badan (Kg)'].mean().round(2)\n",
        "print(\"Rata-rata berat badan siswa:\", rata_rata_berat)"
      ],
      "metadata": {
        "colab": {
          "base_uri": "https://localhost:8080/"
        },
        "id": "mnaHVpvHRwc4",
        "outputId": "d3d63caa-8008-4e82-931d-e3383d73c791"
      },
      "execution_count": null,
      "outputs": [
        {
          "output_type": "stream",
          "name": "stdout",
          "text": [
            "Rata-rata berat badan siswa: 57.27\n"
          ]
        }
      ]
    },
    {
      "cell_type": "code",
      "source": [
        "# menghitung jumlah siswa\n",
        "\n",
        "jumlah_siswa = df.shape[0]\n",
        "print(\"Jumlah siswa:\", jumlah_siswa)\n"
      ],
      "metadata": {
        "colab": {
          "base_uri": "https://localhost:8080/"
        },
        "id": "HJLH-Ye9SZu0",
        "outputId": "f9024a8e-aa0d-490b-bc42-a6f22af4e624"
      },
      "execution_count": null,
      "outputs": [
        {
          "output_type": "stream",
          "name": "stdout",
          "text": [
            "Jumlah siswa: 22\n"
          ]
        }
      ]
    },
    {
      "cell_type": "code",
      "source": [
        "# 5 orang dengan nilai BMI tertinggi\n",
        "\n",
        "import pandas as pd\n",
        "\n",
        "df = pd.read_excel('/content/drive/MyDrive/Colab Notebooks/Data Assignment Kompi G.xlsx')\n",
        "df['BMI'] = (df['Berat Badan (Kg)'] / (df['Tinggi Badan (Cm)'] / 100) ** 2).round(1)\n",
        "df = df.sort_values(by='BMI', ascending=False)\n",
        "top_5_bmi = df.head(5)\n",
        "print(top_5_bmi)"
      ],
      "metadata": {
        "colab": {
          "base_uri": "https://localhost:8080/"
        },
        "id": "hZGIJgFYTYQ_",
        "outputId": "a90fc3ae-b12c-4630-f47c-25edebd5a6df"
      },
      "execution_count": null,
      "outputs": [
        {
          "output_type": "stream",
          "name": "stdout",
          "text": [
            "   No Peserta                     Nama             Jurusan  Berat Badan (Kg)  \\\n",
            "6      DS5G23  Amos Hatoguan Sihombing          Matematika               100   \n",
            "0      DS5G09           Muhamad Fauzi           Manajemen                 88   \n",
            "18     DS5G03  Maylinna Rahayu Ningsih  Teknik Informatika                70   \n",
            "15     DS5G17    Daffa Rayhan Fadhilla         Informatika                80   \n",
            "4      DS5G01              Fayza Aulia         Informatika                60   \n",
            "\n",
            "    Tinggi Badan (Cm)   BMI  \n",
            "6                 178  31.6  \n",
            "0                 178  27.8  \n",
            "18                161  27.0  \n",
            "15                175  26.1  \n",
            "4                 153  25.6  \n"
          ]
        }
      ]
    },
    {
      "cell_type": "code",
      "source": [
        "# Ada berapa orang yang tergolong status Underweight, Normal, Overweight, dan Obesity?\n",
        "\n",
        "import pandas as pd\n",
        "df = pd.read_excel('/content/drive/MyDrive/Colab Notebooks/Hasil Status BMI.xlsx')\n",
        "status_bmi_count = df['Status BMI'].value_counts()\n",
        "print(status_bmi_count)"
      ],
      "metadata": {
        "colab": {
          "base_uri": "https://localhost:8080/"
        },
        "id": "klxT2pmZYfmU",
        "outputId": "c57c2f22-4c83-4fd1-b9dc-cbf02ca11c27"
      },
      "execution_count": null,
      "outputs": [
        {
          "output_type": "stream",
          "name": "stdout",
          "text": [
            "Normal         12\n",
            "Overweight      6\n",
            "Underweight     3\n",
            "Obesity         1\n",
            "Name: Status BMI, dtype: int64\n"
          ]
        }
      ]
    }
  ]
}